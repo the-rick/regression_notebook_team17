{
 "cells": [
  {
   "cell_type": "code",
   "execution_count": 1,
   "metadata": {},
   "outputs": [],
   "source": [
    "from sklearn.ensemble import RandomForestRegressor, GradientBoostingRegressor\n",
    "from sklearn.tree import DecisionTreeRegressor,ExtraTreeRegressor\n",
    "\n",
    "from sklearn.linear_model import LinearRegression\n",
    "from sklearn.metrics import mean_squared_error\n",
    "from sklearn.linear_model import Ridge\n",
    "\n",
    "from matplotlib.pylab import rcParams\n",
    "import matplotlib.pyplot as plt\n",
    "import seaborn as sns\n",
    "import pandas as pd\n",
    "import numpy as np \n",
    "%matplotlib inline\n"
   ]
  },
  {
   "cell_type": "code",
   "execution_count": 3,
   "metadata": {},
   "outputs": [
    {
     "data": {
      "text/html": [
       "<div>\n",
       "<style scoped>\n",
       "    .dataframe tbody tr th:only-of-type {\n",
       "        vertical-align: middle;\n",
       "    }\n",
       "\n",
       "    .dataframe tbody tr th {\n",
       "        vertical-align: top;\n",
       "    }\n",
       "\n",
       "    .dataframe thead th {\n",
       "        text-align: right;\n",
       "    }\n",
       "</style>\n",
       "<table border=\"1\" class=\"dataframe\">\n",
       "  <thead>\n",
       "    <tr style=\"text-align: right;\">\n",
       "      <th></th>\n",
       "      <th>Order No</th>\n",
       "      <th>User Id</th>\n",
       "      <th>Vehicle Type</th>\n",
       "      <th>Platform Type</th>\n",
       "      <th>Personal or Business</th>\n",
       "      <th>Placement - Day of Month</th>\n",
       "      <th>Placement - Weekday (Mo = 1)</th>\n",
       "      <th>Placement - Time</th>\n",
       "      <th>Confirmation - Day of Month</th>\n",
       "      <th>Confirmation - Weekday (Mo = 1)</th>\n",
       "      <th>...</th>\n",
       "      <th>Pickup - Weekday (Mo = 1)</th>\n",
       "      <th>Pickup - Time</th>\n",
       "      <th>Distance (KM)</th>\n",
       "      <th>Temperature</th>\n",
       "      <th>Precipitation in millimeters</th>\n",
       "      <th>Pickup Lat</th>\n",
       "      <th>Pickup Long</th>\n",
       "      <th>Destination Lat</th>\n",
       "      <th>Destination Long</th>\n",
       "      <th>Rider Id</th>\n",
       "    </tr>\n",
       "  </thead>\n",
       "  <tbody>\n",
       "    <tr>\n",
       "      <th>0</th>\n",
       "      <td>Order_No_19248</td>\n",
       "      <td>User_Id_3355</td>\n",
       "      <td>Bike</td>\n",
       "      <td>3</td>\n",
       "      <td>Business</td>\n",
       "      <td>27</td>\n",
       "      <td>3</td>\n",
       "      <td>4:44:10 PM</td>\n",
       "      <td>27</td>\n",
       "      <td>3</td>\n",
       "      <td>...</td>\n",
       "      <td>3</td>\n",
       "      <td>5:06:47 PM</td>\n",
       "      <td>8</td>\n",
       "      <td>NaN</td>\n",
       "      <td>NaN</td>\n",
       "      <td>-1.333275</td>\n",
       "      <td>36.870815</td>\n",
       "      <td>-1.305249</td>\n",
       "      <td>36.822390</td>\n",
       "      <td>Rider_Id_192</td>\n",
       "    </tr>\n",
       "    <tr>\n",
       "      <th>1</th>\n",
       "      <td>Order_No_12736</td>\n",
       "      <td>User_Id_3647</td>\n",
       "      <td>Bike</td>\n",
       "      <td>3</td>\n",
       "      <td>Business</td>\n",
       "      <td>17</td>\n",
       "      <td>5</td>\n",
       "      <td>12:57:35 PM</td>\n",
       "      <td>17</td>\n",
       "      <td>5</td>\n",
       "      <td>...</td>\n",
       "      <td>5</td>\n",
       "      <td>1:25:37 PM</td>\n",
       "      <td>5</td>\n",
       "      <td>NaN</td>\n",
       "      <td>NaN</td>\n",
       "      <td>-1.272639</td>\n",
       "      <td>36.794723</td>\n",
       "      <td>-1.277007</td>\n",
       "      <td>36.823907</td>\n",
       "      <td>Rider_Id_868</td>\n",
       "    </tr>\n",
       "    <tr>\n",
       "      <th>2</th>\n",
       "      <td>Order_No_768</td>\n",
       "      <td>User_Id_2154</td>\n",
       "      <td>Bike</td>\n",
       "      <td>3</td>\n",
       "      <td>Business</td>\n",
       "      <td>27</td>\n",
       "      <td>4</td>\n",
       "      <td>11:08:14 AM</td>\n",
       "      <td>27</td>\n",
       "      <td>4</td>\n",
       "      <td>...</td>\n",
       "      <td>4</td>\n",
       "      <td>11:57:54 AM</td>\n",
       "      <td>5</td>\n",
       "      <td>22.8</td>\n",
       "      <td>NaN</td>\n",
       "      <td>-1.290894</td>\n",
       "      <td>36.822971</td>\n",
       "      <td>-1.276574</td>\n",
       "      <td>36.851365</td>\n",
       "      <td>Rider_Id_26</td>\n",
       "    </tr>\n",
       "  </tbody>\n",
       "</table>\n",
       "<p>3 rows × 25 columns</p>\n",
       "</div>"
      ],
      "text/plain": [
       "         Order No       User Id Vehicle Type  Platform Type  \\\n",
       "0  Order_No_19248  User_Id_3355         Bike              3   \n",
       "1  Order_No_12736  User_Id_3647         Bike              3   \n",
       "2    Order_No_768  User_Id_2154         Bike              3   \n",
       "\n",
       "  Personal or Business  Placement - Day of Month  \\\n",
       "0             Business                        27   \n",
       "1             Business                        17   \n",
       "2             Business                        27   \n",
       "\n",
       "   Placement - Weekday (Mo = 1) Placement - Time  Confirmation - Day of Month  \\\n",
       "0                             3       4:44:10 PM                           27   \n",
       "1                             5      12:57:35 PM                           17   \n",
       "2                             4      11:08:14 AM                           27   \n",
       "\n",
       "   Confirmation - Weekday (Mo = 1)  ... Pickup - Weekday (Mo = 1)  \\\n",
       "0                                3  ...                         3   \n",
       "1                                5  ...                         5   \n",
       "2                                4  ...                         4   \n",
       "\n",
       "   Pickup - Time  Distance (KM) Temperature  Precipitation in millimeters  \\\n",
       "0     5:06:47 PM              8         NaN                           NaN   \n",
       "1     1:25:37 PM              5         NaN                           NaN   \n",
       "2    11:57:54 AM              5        22.8                           NaN   \n",
       "\n",
       "   Pickup Lat Pickup Long  Destination Lat  Destination Long      Rider Id  \n",
       "0   -1.333275   36.870815        -1.305249         36.822390  Rider_Id_192  \n",
       "1   -1.272639   36.794723        -1.277007         36.823907  Rider_Id_868  \n",
       "2   -1.290894   36.822971        -1.276574         36.851365   Rider_Id_26  \n",
       "\n",
       "[3 rows x 25 columns]"
      ]
     },
     "execution_count": 3,
     "metadata": {},
     "output_type": "execute_result"
    }
   ],
   "source": [
    "############ Test dataset\n",
    "test_data = pd.read_csv('Test.csv')\n",
    "test_data.head(3)"
   ]
  },
  {
   "cell_type": "code",
   "execution_count": 4,
   "metadata": {},
   "outputs": [
    {
     "data": {
      "text/html": [
       "<div>\n",
       "<style scoped>\n",
       "    .dataframe tbody tr th:only-of-type {\n",
       "        vertical-align: middle;\n",
       "    }\n",
       "\n",
       "    .dataframe tbody tr th {\n",
       "        vertical-align: top;\n",
       "    }\n",
       "\n",
       "    .dataframe thead th {\n",
       "        text-align: right;\n",
       "    }\n",
       "</style>\n",
       "<table border=\"1\" class=\"dataframe\">\n",
       "  <thead>\n",
       "    <tr style=\"text-align: right;\">\n",
       "      <th></th>\n",
       "      <th>Rider Id</th>\n",
       "      <th>No_Of_Orders</th>\n",
       "      <th>Age</th>\n",
       "      <th>Average_Rating</th>\n",
       "      <th>No_of_Ratings</th>\n",
       "    </tr>\n",
       "  </thead>\n",
       "  <tbody>\n",
       "    <tr>\n",
       "      <th>0</th>\n",
       "      <td>Rider_Id_396</td>\n",
       "      <td>2946</td>\n",
       "      <td>2298</td>\n",
       "      <td>14.0</td>\n",
       "      <td>1159</td>\n",
       "    </tr>\n",
       "    <tr>\n",
       "      <th>1</th>\n",
       "      <td>Rider_Id_479</td>\n",
       "      <td>360</td>\n",
       "      <td>951</td>\n",
       "      <td>13.5</td>\n",
       "      <td>176</td>\n",
       "    </tr>\n",
       "    <tr>\n",
       "      <th>2</th>\n",
       "      <td>Rider_Id_648</td>\n",
       "      <td>1746</td>\n",
       "      <td>821</td>\n",
       "      <td>14.3</td>\n",
       "      <td>466</td>\n",
       "    </tr>\n",
       "  </tbody>\n",
       "</table>\n",
       "</div>"
      ],
      "text/plain": [
       "       Rider Id  No_Of_Orders   Age  Average_Rating  No_of_Ratings\n",
       "0  Rider_Id_396          2946  2298            14.0           1159\n",
       "1  Rider_Id_479           360   951            13.5            176\n",
       "2  Rider_Id_648          1746   821            14.3            466"
      ]
     },
     "execution_count": 4,
     "metadata": {},
     "output_type": "execute_result"
    }
   ],
   "source": [
    "########### Rider dataset\n",
    "\n",
    "riders = pd.read_csv('Riders.csv')\n",
    "riders.head(3)"
   ]
  },
  {
   "cell_type": "code",
   "execution_count": 5,
   "metadata": {},
   "outputs": [
    {
     "data": {
      "text/html": [
       "<div>\n",
       "<style scoped>\n",
       "    .dataframe tbody tr th:only-of-type {\n",
       "        vertical-align: middle;\n",
       "    }\n",
       "\n",
       "    .dataframe tbody tr th {\n",
       "        vertical-align: top;\n",
       "    }\n",
       "\n",
       "    .dataframe thead th {\n",
       "        text-align: right;\n",
       "    }\n",
       "</style>\n",
       "<table border=\"1\" class=\"dataframe\">\n",
       "  <thead>\n",
       "    <tr style=\"text-align: right;\">\n",
       "      <th></th>\n",
       "      <th>Order No</th>\n",
       "      <th>User Id</th>\n",
       "      <th>Vehicle Type</th>\n",
       "      <th>Platform Type</th>\n",
       "      <th>Personal or Business</th>\n",
       "      <th>Placement - Day of Month</th>\n",
       "      <th>Placement - Weekday (Mo = 1)</th>\n",
       "      <th>Placement - Time</th>\n",
       "      <th>Confirmation - Day of Month</th>\n",
       "      <th>Confirmation - Weekday (Mo = 1)</th>\n",
       "      <th>...</th>\n",
       "      <th>Arrival at Destination - Time</th>\n",
       "      <th>Distance (KM)</th>\n",
       "      <th>Temperature</th>\n",
       "      <th>Precipitation in millimeters</th>\n",
       "      <th>Pickup Lat</th>\n",
       "      <th>Pickup Long</th>\n",
       "      <th>Destination Lat</th>\n",
       "      <th>Destination Long</th>\n",
       "      <th>Rider Id</th>\n",
       "      <th>Time from Pickup to Arrival</th>\n",
       "    </tr>\n",
       "  </thead>\n",
       "  <tbody>\n",
       "    <tr>\n",
       "      <th>0</th>\n",
       "      <td>Order_No_4211</td>\n",
       "      <td>User_Id_633</td>\n",
       "      <td>Bike</td>\n",
       "      <td>3</td>\n",
       "      <td>Business</td>\n",
       "      <td>9</td>\n",
       "      <td>5</td>\n",
       "      <td>9:35:46 AM</td>\n",
       "      <td>9</td>\n",
       "      <td>5</td>\n",
       "      <td>...</td>\n",
       "      <td>10:39:55 AM</td>\n",
       "      <td>4</td>\n",
       "      <td>20.4</td>\n",
       "      <td>NaN</td>\n",
       "      <td>-1.317755</td>\n",
       "      <td>36.830370</td>\n",
       "      <td>-1.300406</td>\n",
       "      <td>36.829741</td>\n",
       "      <td>Rider_Id_432</td>\n",
       "      <td>745</td>\n",
       "    </tr>\n",
       "    <tr>\n",
       "      <th>1</th>\n",
       "      <td>Order_No_25375</td>\n",
       "      <td>User_Id_2285</td>\n",
       "      <td>Bike</td>\n",
       "      <td>3</td>\n",
       "      <td>Personal</td>\n",
       "      <td>12</td>\n",
       "      <td>5</td>\n",
       "      <td>11:16:16 AM</td>\n",
       "      <td>12</td>\n",
       "      <td>5</td>\n",
       "      <td>...</td>\n",
       "      <td>12:17:22 PM</td>\n",
       "      <td>16</td>\n",
       "      <td>26.4</td>\n",
       "      <td>NaN</td>\n",
       "      <td>-1.351453</td>\n",
       "      <td>36.899315</td>\n",
       "      <td>-1.295004</td>\n",
       "      <td>36.814358</td>\n",
       "      <td>Rider_Id_856</td>\n",
       "      <td>1993</td>\n",
       "    </tr>\n",
       "    <tr>\n",
       "      <th>2</th>\n",
       "      <td>Order_No_1899</td>\n",
       "      <td>User_Id_265</td>\n",
       "      <td>Bike</td>\n",
       "      <td>3</td>\n",
       "      <td>Business</td>\n",
       "      <td>30</td>\n",
       "      <td>2</td>\n",
       "      <td>12:39:25 PM</td>\n",
       "      <td>30</td>\n",
       "      <td>2</td>\n",
       "      <td>...</td>\n",
       "      <td>1:00:38 PM</td>\n",
       "      <td>3</td>\n",
       "      <td>NaN</td>\n",
       "      <td>NaN</td>\n",
       "      <td>-1.308284</td>\n",
       "      <td>36.843419</td>\n",
       "      <td>-1.300921</td>\n",
       "      <td>36.828195</td>\n",
       "      <td>Rider_Id_155</td>\n",
       "      <td>455</td>\n",
       "    </tr>\n",
       "  </tbody>\n",
       "</table>\n",
       "<p>3 rows × 29 columns</p>\n",
       "</div>"
      ],
      "text/plain": [
       "         Order No       User Id Vehicle Type  Platform Type  \\\n",
       "0   Order_No_4211   User_Id_633         Bike              3   \n",
       "1  Order_No_25375  User_Id_2285         Bike              3   \n",
       "2   Order_No_1899   User_Id_265         Bike              3   \n",
       "\n",
       "  Personal or Business  Placement - Day of Month  \\\n",
       "0             Business                         9   \n",
       "1             Personal                        12   \n",
       "2             Business                        30   \n",
       "\n",
       "   Placement - Weekday (Mo = 1) Placement - Time  Confirmation - Day of Month  \\\n",
       "0                             5       9:35:46 AM                            9   \n",
       "1                             5      11:16:16 AM                           12   \n",
       "2                             2      12:39:25 PM                           30   \n",
       "\n",
       "   Confirmation - Weekday (Mo = 1)  ... Arrival at Destination - Time  \\\n",
       "0                                5  ...                   10:39:55 AM   \n",
       "1                                5  ...                   12:17:22 PM   \n",
       "2                                2  ...                    1:00:38 PM   \n",
       "\n",
       "   Distance (KM)  Temperature Precipitation in millimeters  Pickup Lat  \\\n",
       "0              4         20.4                          NaN   -1.317755   \n",
       "1             16         26.4                          NaN   -1.351453   \n",
       "2              3          NaN                          NaN   -1.308284   \n",
       "\n",
       "   Pickup Long Destination Lat  Destination Long      Rider Id  \\\n",
       "0    36.830370       -1.300406         36.829741  Rider_Id_432   \n",
       "1    36.899315       -1.295004         36.814358  Rider_Id_856   \n",
       "2    36.843419       -1.300921         36.828195  Rider_Id_155   \n",
       "\n",
       "  Time from Pickup to Arrival  \n",
       "0                         745  \n",
       "1                        1993  \n",
       "2                         455  \n",
       "\n",
       "[3 rows x 29 columns]"
      ]
     },
     "execution_count": 5,
     "metadata": {},
     "output_type": "execute_result"
    }
   ],
   "source": [
    "########### Train dataset\n",
    "train_data = pd.read_csv('Train.csv')\n",
    "train_data.head(3)\n"
   ]
  },
  {
   "cell_type": "code",
   "execution_count": 6,
   "metadata": {},
   "outputs": [],
   "source": [
    "######### merging datasets\n",
    "\n",
    "#                                 TEST\n",
    "df2 = d = pd.merge(test_data,riders,on = 'Rider Id',how='left')\n",
    "\n",
    "\n",
    "#                                 TRAIN\n",
    "df = pd.merge(riders,train_data,on = 'Rider Id',how='left')\n",
    "\n"
   ]
  },
  {
   "cell_type": "code",
   "execution_count": null,
   "metadata": {},
   "outputs": [],
   "source": [
    "plt.plot(df)"
   ]
  },
  {
   "cell_type": "code",
   "execution_count": 7,
   "metadata": {},
   "outputs": [
    {
     "data": {
      "text/html": [
       "<div>\n",
       "<style scoped>\n",
       "    .dataframe tbody tr th:only-of-type {\n",
       "        vertical-align: middle;\n",
       "    }\n",
       "\n",
       "    .dataframe tbody tr th {\n",
       "        vertical-align: top;\n",
       "    }\n",
       "\n",
       "    .dataframe thead th {\n",
       "        text-align: right;\n",
       "    }\n",
       "</style>\n",
       "<table border=\"1\" class=\"dataframe\">\n",
       "  <thead>\n",
       "    <tr style=\"text-align: right;\">\n",
       "      <th></th>\n",
       "      <th>Rider Id</th>\n",
       "      <th>No_Of_Orders</th>\n",
       "      <th>Age</th>\n",
       "      <th>Average_Rating</th>\n",
       "      <th>No_of_Ratings</th>\n",
       "      <th>Order No</th>\n",
       "      <th>User Id</th>\n",
       "      <th>Vehicle Type</th>\n",
       "      <th>Platform Type</th>\n",
       "      <th>Personal or Business</th>\n",
       "      <th>...</th>\n",
       "      <th>Arrival at Destination - Weekday (Mo = 1)</th>\n",
       "      <th>Arrival at Destination - Time</th>\n",
       "      <th>Distance (KM)</th>\n",
       "      <th>Temperature</th>\n",
       "      <th>Precipitation in millimeters</th>\n",
       "      <th>Pickup Lat</th>\n",
       "      <th>Pickup Long</th>\n",
       "      <th>Destination Lat</th>\n",
       "      <th>Destination Long</th>\n",
       "      <th>Time from Pickup to Arrival</th>\n",
       "    </tr>\n",
       "  </thead>\n",
       "  <tbody>\n",
       "    <tr>\n",
       "      <th>0</th>\n",
       "      <td>Rider_Id_396</td>\n",
       "      <td>2946</td>\n",
       "      <td>2298</td>\n",
       "      <td>14.0</td>\n",
       "      <td>1159</td>\n",
       "      <td>Order_No_19506</td>\n",
       "      <td>User_Id_2746</td>\n",
       "      <td>Bike</td>\n",
       "      <td>1.0</td>\n",
       "      <td>Personal</td>\n",
       "      <td>...</td>\n",
       "      <td>2.0</td>\n",
       "      <td>11:21:33 AM</td>\n",
       "      <td>4.0</td>\n",
       "      <td>21.7</td>\n",
       "      <td>NaN</td>\n",
       "      <td>-1.278450</td>\n",
       "      <td>36.798173</td>\n",
       "      <td>-1.278948</td>\n",
       "      <td>36.812236</td>\n",
       "      <td>491.0</td>\n",
       "    </tr>\n",
       "    <tr>\n",
       "      <th>1</th>\n",
       "      <td>Rider_Id_396</td>\n",
       "      <td>2946</td>\n",
       "      <td>2298</td>\n",
       "      <td>14.0</td>\n",
       "      <td>1159</td>\n",
       "      <td>Order_No_14309</td>\n",
       "      <td>User_Id_1792</td>\n",
       "      <td>Bike</td>\n",
       "      <td>3.0</td>\n",
       "      <td>Business</td>\n",
       "      <td>...</td>\n",
       "      <td>5.0</td>\n",
       "      <td>11:07:26 AM</td>\n",
       "      <td>3.0</td>\n",
       "      <td>24.4</td>\n",
       "      <td>NaN</td>\n",
       "      <td>-1.280912</td>\n",
       "      <td>36.785252</td>\n",
       "      <td>-1.273431</td>\n",
       "      <td>36.786378</td>\n",
       "      <td>482.0</td>\n",
       "    </tr>\n",
       "    <tr>\n",
       "      <th>2</th>\n",
       "      <td>Rider_Id_479</td>\n",
       "      <td>360</td>\n",
       "      <td>951</td>\n",
       "      <td>13.5</td>\n",
       "      <td>176</td>\n",
       "      <td>Order_No_5471</td>\n",
       "      <td>User_Id_2162</td>\n",
       "      <td>Bike</td>\n",
       "      <td>3.0</td>\n",
       "      <td>Business</td>\n",
       "      <td>...</td>\n",
       "      <td>1.0</td>\n",
       "      <td>2:55:53 PM</td>\n",
       "      <td>12.0</td>\n",
       "      <td>20.3</td>\n",
       "      <td>NaN</td>\n",
       "      <td>-1.256624</td>\n",
       "      <td>36.870685</td>\n",
       "      <td>-1.261589</td>\n",
       "      <td>36.792873</td>\n",
       "      <td>1967.0</td>\n",
       "    </tr>\n",
       "  </tbody>\n",
       "</table>\n",
       "<p>3 rows × 33 columns</p>\n",
       "</div>"
      ],
      "text/plain": [
       "       Rider Id  No_Of_Orders   Age  Average_Rating  No_of_Ratings  \\\n",
       "0  Rider_Id_396          2946  2298            14.0           1159   \n",
       "1  Rider_Id_396          2946  2298            14.0           1159   \n",
       "2  Rider_Id_479           360   951            13.5            176   \n",
       "\n",
       "         Order No       User Id Vehicle Type  Platform Type  \\\n",
       "0  Order_No_19506  User_Id_2746         Bike            1.0   \n",
       "1  Order_No_14309  User_Id_1792         Bike            3.0   \n",
       "2   Order_No_5471  User_Id_2162         Bike            3.0   \n",
       "\n",
       "  Personal or Business  ...  Arrival at Destination - Weekday (Mo = 1)  \\\n",
       "0             Personal  ...                                        2.0   \n",
       "1             Business  ...                                        5.0   \n",
       "2             Business  ...                                        1.0   \n",
       "\n",
       "   Arrival at Destination - Time Distance (KM)  Temperature  \\\n",
       "0                    11:21:33 AM           4.0         21.7   \n",
       "1                    11:07:26 AM           3.0         24.4   \n",
       "2                     2:55:53 PM          12.0         20.3   \n",
       "\n",
       "   Precipitation in millimeters Pickup Lat  Pickup Long  Destination Lat  \\\n",
       "0                           NaN  -1.278450    36.798173        -1.278948   \n",
       "1                           NaN  -1.280912    36.785252        -1.273431   \n",
       "2                           NaN  -1.256624    36.870685        -1.261589   \n",
       "\n",
       "  Destination Long  Time from Pickup to Arrival  \n",
       "0        36.812236                        491.0  \n",
       "1        36.786378                        482.0  \n",
       "2        36.792873                       1967.0  \n",
       "\n",
       "[3 rows x 33 columns]"
      ]
     },
     "execution_count": 7,
     "metadata": {},
     "output_type": "execute_result"
    }
   ],
   "source": [
    "df.head(3)"
   ]
  },
  {
   "cell_type": "code",
   "execution_count": 8,
   "metadata": {},
   "outputs": [],
   "source": [
    "\"\"\"          \n",
    "   Dropping vehicle type because it is always a bike\n",
    "\"\"\"\n",
    "\n",
    "def drop_vehicle_type(input_df):\n",
    "    input_df = input_df.drop([\"Vehicle Type\"], axis=1)\n",
    "    return input_df\n",
    "    \n"
   ]
  },
  {
   "cell_type": "code",
   "execution_count": 9,
   "metadata": {},
   "outputs": [],
   "source": [
    "df = drop_vehicle_type(df)                   # TRAIN DATA\n",
    "df2 = drop_vehicle_type(df2)                  # TEST DATA"
   ]
  },
  {
   "cell_type": "markdown",
   "metadata": {},
   "source": [
    "# Assigning features and predictor variables"
   ]
  },
  {
   "cell_type": "code",
   "execution_count": 10,
   "metadata": {},
   "outputs": [],
   "source": [
    "#                               TRAIN DATA\n",
    "X = df.drop([\"Time from Pickup to Arrival\"],axis=1)\n",
    "y = df.iloc[:,-1].values"
   ]
  },
  {
   "cell_type": "code",
   "execution_count": 11,
   "metadata": {},
   "outputs": [],
   "source": [
    "\"\"\"\n",
    "   Dropping these features because the test data does not contain them\n",
    "\n",
    "\"\"\"\n",
    "\n",
    "X = X.drop(['Arrival at Destination - Day of Month','Arrival at Destination - Weekday (Mo = 1)',\n",
    "           'Arrival at Destination - Time'], axis=1)"
   ]
  },
  {
   "cell_type": "code",
   "execution_count": 12,
   "metadata": {},
   "outputs": [],
   "source": [
    "#                                TEST DATA\n",
    "X_pred = df2.iloc[:,:]"
   ]
  },
  {
   "cell_type": "markdown",
   "metadata": {},
   "source": [
    "# Dealing with missing values"
   ]
  },
  {
   "cell_type": "code",
   "execution_count": 13,
   "metadata": {},
   "outputs": [],
   "source": [
    "\"\"\"\n",
    "   PREDICTION VARIABLE\n",
    "   Dropping missing values for Time from Pickup to Arrival\n",
    "\"\"\"\n",
    "y = y[~np.isnan(y)]"
   ]
  },
  {
   "cell_type": "code",
   "execution_count": 14,
   "metadata": {},
   "outputs": [],
   "source": [
    "\"\"\"\n",
    "   PRECIPITATION\n",
    "   Missing values will be replaced with 0. The zero will mean that there was no precipitation \n",
    "   during that day.\n",
    "\"\"\"\n",
    "\n",
    "X[\"Precipitation in millimeters\"] = X[\"Precipitation in millimeters\"].fillna(0)  #TRAIN DATA\n",
    "X_pred[\"Precipitation in millimeters\"] = X_pred[\"Precipitation in millimeters\"].fillna(0)  #TEST DATA\n"
   ]
  },
  {
   "cell_type": "code",
   "execution_count": 15,
   "metadata": {},
   "outputs": [],
   "source": [
    "\"\"\"\n",
    "   TEMPERATURE\n",
    "   Filling NaN values with the mean of the column\n",
    "\"\"\"\n",
    "\n",
    "def impute_mean(series):\n",
    "    return series.fillna(series.mean())                       \n"
   ]
  },
  {
   "cell_type": "code",
   "execution_count": 16,
   "metadata": {},
   "outputs": [],
   "source": [
    "X[\"Temperature\"] = round(X.Temperature.transform(impute_mean),1)     # TRAIN DATA"
   ]
  },
  {
   "cell_type": "code",
   "execution_count": 17,
   "metadata": {},
   "outputs": [],
   "source": [
    "X_pred[\"Temperature\"] = round(X_pred.Temperature.transform(impute_mean),1)      # TEST DATA"
   ]
  },
  {
   "cell_type": "code",
   "execution_count": 18,
   "metadata": {},
   "outputs": [],
   "source": [
    "\"\"\"\n",
    "   Drop the riders from the Rider dataset who do not have information on the train data and test data\n",
    "   Number of rows will go from 21237 to 21201 in train dataset\n",
    "   Number of rows will go from 7206 to 7068 in test dataset\n",
    "\"\"\"\n",
    "\n",
    "def drop_nan_rows(input_df):\n",
    "    input_df = input_df.dropna(how='any', subset=['User Id'])\n",
    "    return input_df"
   ]
  },
  {
   "cell_type": "code",
   "execution_count": 19,
   "metadata": {},
   "outputs": [],
   "source": [
    "X = drop_nan_rows(X)                    # TRAIN DATA\n",
    "X_pred = drop_nan_rows(X_pred)                   # TEST DATA"
   ]
  },
  {
   "cell_type": "markdown",
   "metadata": {},
   "source": [
    "# Categorising data and encoding it"
   ]
  },
  {
   "cell_type": "code",
   "execution_count": 20,
   "metadata": {},
   "outputs": [],
   "source": [
    "\"\"\"\n",
    "   RIDER ID\n",
    "   \n",
    "   Creating a count variable that counts the number of times each rider ID appeArs,\n",
    "   then breaking the counts values into categorical values to reduce the number of dummy variables\n",
    "\"\"\"\n",
    "\n",
    "\n",
    "                                                  \n",
    "                        # TRAIN DATA\n",
    "X[\"Counts\"] = X.groupby(\"Rider Id\")[\"Order No\"].transform('count')\n",
    "X[\"Is_rider_busy\"] = X[\"Counts\"].apply(lambda x: 1 if x >= 50 else 0)\n",
    "\n",
    "\n",
    "                        # TEST DATA\n",
    "X_pred[\"Counts\"] = X_pred.groupby(\"Rider Id\")[\"Order No\"].transform('count')\n",
    "X_pred[\"Is_rider_busy\"] = X_pred[\"Counts\"].apply(lambda x: 1 if x >= 50 else 0)\n",
    "\n"
   ]
  },
  {
   "cell_type": "code",
   "execution_count": 21,
   "metadata": {},
   "outputs": [],
   "source": [
    "\"\"\"\n",
    "   Dropping the counts and Rider Id columns, after utilizing them\n",
    "\"\"\"\n",
    "\n",
    "X = X.drop([\"Rider Id\",\"Counts\"],axis = 1)              # TRAIN DATA\n",
    "X_pred = X_pred.drop([\"Rider Id\",\"Counts\"],axis = 1)    # TEST DATA\n"
   ]
  },
  {
   "cell_type": "code",
   "execution_count": 22,
   "metadata": {},
   "outputs": [],
   "source": [
    "\"\"\"\n",
    "  USER  ID\n",
    "  \n",
    "  Doing the same method we did for the rider ID variable to reduce the number of dummy variables\n",
    "  A user will be a frequent user if they are returning for the second time or more,\n",
    "  if a user appears once on the list, they are regarded as non-frequent\n",
    "\"\"\"\n",
    "\n",
    "def user_id_cat(input_df):\n",
    "    input_df[\"Counts\"] = input_df.groupby(\"User Id\")[\"Order No\"].transform('count')\n",
    "\n",
    "    input_df[\"Is_user_frequent\"] = input_df[\"Counts\"].apply(lambda x: \"Frequent\" if x >= 135 \n",
    "                                   else \"Moderate\" if 10 < x < 135 \n",
    "                                   else  \"Occasional\" )\n",
    "    return input_df"
   ]
  },
  {
   "cell_type": "code",
   "execution_count": 23,
   "metadata": {},
   "outputs": [],
   "source": [
    "X = user_id_cat(X)                   # TRAIN DATA\n",
    "X_pred = user_id_cat(X_pred)         # TEST DATA"
   ]
  },
  {
   "cell_type": "code",
   "execution_count": 24,
   "metadata": {},
   "outputs": [],
   "source": [
    "\"\"\"\n",
    "   Dropping the counts and User Id columns, after utilizing them\n",
    "\"\"\"\n",
    "X = X.drop([\"User Id\",\"Counts\"],axis = 1)               # TRAIN DATA\n",
    "X_pred = X_pred.drop([\"User Id\",\"Counts\"],axis = 1)     # TEST DATA    \n"
   ]
  },
  {
   "cell_type": "code",
   "execution_count": 25,
   "metadata": {},
   "outputs": [],
   "source": [
    "\"\"\"\n",
    "  PLATFORM TYPE\n",
    "  \n",
    "  Because on platform type 3 was used for approximately 85.16% of the orders placed in the dataset, it will be regarded as the\n",
    "  busiest platform, and the others will be regarded as not busy.\n",
    "\"\"\"\n",
    "\n",
    "def platfor_type(input_df):\n",
    "    input_df[\"Is_platform_busy\"] = input_df[\"Platform Type\"].apply(lambda x: 1 if x == 3 \n",
    "                                   else 0)\n",
    "    return input_df"
   ]
  },
  {
   "cell_type": "code",
   "execution_count": 26,
   "metadata": {},
   "outputs": [],
   "source": [
    "X = platfor_type(X)                   # TRAIN DATA\n",
    "X_pred = platfor_type(X_pred)         # TEST DATA"
   ]
  },
  {
   "cell_type": "code",
   "execution_count": 27,
   "metadata": {},
   "outputs": [],
   "source": [
    "\"\"\"\n",
    "   Dropping Platform Type column after utilizing it\n",
    "\"\"\"\n",
    "X = X.drop([\"Platform Type\"],axis = 1)               # TRAIN DATA\n",
    "X_pred = X_pred.drop([\"Platform Type\"],axis = 1)     # TEST DATA    "
   ]
  },
  {
   "cell_type": "code",
   "execution_count": 28,
   "metadata": {},
   "outputs": [],
   "source": [
    "\"\"\"\n",
    "   DAY OF THE MONTH\n",
    "   \n",
    "   The value counts for confirmation, placement,pickup and arrival at pickup day of the month are the same.\n",
    "   One Day Of The Month column will be created to specify which of the month it is.\n",
    "\"\"\"\n",
    "\n",
    "#Train data\n",
    "X['Day_of_Month'] = X['Placement - Day of Month'].apply(lambda x: \"Beginning\" if 1 <= x < 12\n",
    "                                   else \"Mid\" if 13 <= x <= 25\n",
    "                                   else \"End_month\")\n",
    "X = X.drop(['Placement - Day of Month','Confirmation - Day of Month','Arrival at Pickup - Day of Month',\n",
    "            'Pickup - Day of Month'], axis=1)\n",
    "\n",
    "#Test data\n",
    "X_pred['Day_of_Month'] = X_pred['Placement - Day of Month'].apply(lambda x: \"Beginning\" if 1 <= x < 12\n",
    "                                   else \"Mid\" if 13 <= x <= 25\n",
    "                                   else \"End_month\")\n",
    "X_pred = X_pred.drop(['Placement - Day of Month','Confirmation - Day of Month','Arrival at Pickup - Day of Month',\n",
    "            'Pickup - Day of Month'], axis=1)"
   ]
  },
  {
   "cell_type": "code",
   "execution_count": null,
   "metadata": {},
   "outputs": [],
   "source": []
  },
  {
   "cell_type": "code",
   "execution_count": 29,
   "metadata": {},
   "outputs": [],
   "source": [
    "\"\"\"\n",
    "   WEEKDAYS\n",
    "   \n",
    "   The value counts for the weekday variables for placement weekday, confirmation weekday, pickup weekday and arrival\n",
    "   at pickup weekday are the same. One categorical weekday column will be created specifying which days of the week\n",
    "   it is.\n",
    "\"\"\"\n",
    "#Train data\n",
    "X['Day_of_Week'] = X['Pickup - Weekday (Mo = 1)'].apply(lambda x: \"Monday\" if x == 1.0 \n",
    "                                   else \"Mid_week\" if 1.0 < x <= 4.0 \n",
    "                                   else  \"Friday\" if x == 5.0\n",
    "                                   else \"Weekend\")\n",
    "X = X.drop(['Placement - Weekday (Mo = 1)','Confirmation - Weekday (Mo = 1)','Arrival at Pickup - Weekday (Mo = 1)',\n",
    "           'Pickup - Weekday (Mo = 1)'], axis=1)\n",
    "\n",
    "#Test data\n",
    "X_pred['Day_of_Week'] = X_pred['Pickup - Weekday (Mo = 1)'].apply(lambda x: \"Monday\" if x == 1.0 \n",
    "                                   else \"Mid_week\" if 1.0 < x <= 4.0 \n",
    "                                   else  \"Friday\" if x == 5.0\n",
    "                                   else \"Weekend\")\n",
    "X_pred = X_pred.drop(['Placement - Weekday (Mo = 1)','Confirmation - Weekday (Mo = 1)','Arrival at Pickup - Weekday (Mo = 1)',\n",
    "           'Pickup - Weekday (Mo = 1)'], axis=1)"
   ]
  },
  {
   "cell_type": "code",
   "execution_count": 30,
   "metadata": {},
   "outputs": [],
   "source": [
    "\"\"\"\n",
    "   ORDER NO\n",
    "   \n",
    "   Dropping Order No column because  it is unique for every row\n",
    "\"\"\"\n",
    "X = X.drop([\"Order No\"],axis=1)                        # TRAIN DATA\n",
    "X_pred = X_pred.drop([\"Order No\"],axis=1)              # TEST DATA"
   ]
  },
  {
   "cell_type": "code",
   "execution_count": 31,
   "metadata": {},
   "outputs": [],
   "source": [
    "\"\"\"\n",
    "   Making sure column naming is consistent by replacing whitespaces with an underscore\n",
    "\"\"\"\n",
    "\n",
    "X.columns = [col.replace(\" \",\"_\") for col in X.columns]                   # TRAIN DATA\n",
    "X_pred.columns = [col.replace(\" \",\"_\") for col in X_pred.columns]         # TEST DATA "
   ]
  },
  {
   "cell_type": "markdown",
   "metadata": {},
   "source": [
    "# Encoding features"
   ]
  },
  {
   "cell_type": "code",
   "execution_count": 32,
   "metadata": {},
   "outputs": [],
   "source": [
    "objList = X.select_dtypes(include = \"object\").columns            #finding features with type object\n",
    "objList\n",
    "excluding_time = ['Personal_or_Business','Is_user_frequent']\n"
   ]
  },
  {
   "cell_type": "code",
   "execution_count": 33,
   "metadata": {},
   "outputs": [
    {
     "data": {
      "text/html": [
       "<div>\n",
       "<style scoped>\n",
       "    .dataframe tbody tr th:only-of-type {\n",
       "        vertical-align: middle;\n",
       "    }\n",
       "\n",
       "    .dataframe tbody tr th {\n",
       "        vertical-align: top;\n",
       "    }\n",
       "\n",
       "    .dataframe thead th {\n",
       "        text-align: right;\n",
       "    }\n",
       "</style>\n",
       "<table border=\"1\" class=\"dataframe\">\n",
       "  <thead>\n",
       "    <tr style=\"text-align: right;\">\n",
       "      <th></th>\n",
       "      <th>No_Of_Orders</th>\n",
       "      <th>Age</th>\n",
       "      <th>Average_Rating</th>\n",
       "      <th>No_of_Ratings</th>\n",
       "      <th>Personal_or_Business</th>\n",
       "      <th>Placement_-_Time</th>\n",
       "      <th>Confirmation_-_Time</th>\n",
       "      <th>Arrival_at_Pickup_-_Time</th>\n",
       "      <th>Pickup_-_Time</th>\n",
       "      <th>Distance_(KM)</th>\n",
       "      <th>...</th>\n",
       "      <th>Precipitation_in_millimeters</th>\n",
       "      <th>Pickup_Lat</th>\n",
       "      <th>Pickup_Long</th>\n",
       "      <th>Destination_Lat</th>\n",
       "      <th>Destination_Long</th>\n",
       "      <th>Is_rider_busy</th>\n",
       "      <th>Is_user_frequent</th>\n",
       "      <th>Is_platform_busy</th>\n",
       "      <th>Day_of_Month</th>\n",
       "      <th>Day_of_Week</th>\n",
       "    </tr>\n",
       "  </thead>\n",
       "  <tbody>\n",
       "    <tr>\n",
       "      <th>0</th>\n",
       "      <td>2946</td>\n",
       "      <td>2298</td>\n",
       "      <td>14.0</td>\n",
       "      <td>1159</td>\n",
       "      <td>Personal</td>\n",
       "      <td>10:41:49 AM</td>\n",
       "      <td>10:43:49 AM</td>\n",
       "      <td>11:05:49 AM</td>\n",
       "      <td>11:13:22 AM</td>\n",
       "      <td>4.0</td>\n",
       "      <td>...</td>\n",
       "      <td>0.0</td>\n",
       "      <td>-1.278450</td>\n",
       "      <td>36.798173</td>\n",
       "      <td>-1.278948</td>\n",
       "      <td>36.812236</td>\n",
       "      <td>0</td>\n",
       "      <td>Occasional</td>\n",
       "      <td>0</td>\n",
       "      <td>Beginning</td>\n",
       "      <td>Mid_week</td>\n",
       "    </tr>\n",
       "    <tr>\n",
       "      <th>1</th>\n",
       "      <td>2946</td>\n",
       "      <td>2298</td>\n",
       "      <td>14.0</td>\n",
       "      <td>1159</td>\n",
       "      <td>Business</td>\n",
       "      <td>10:38:29 AM</td>\n",
       "      <td>10:39:10 AM</td>\n",
       "      <td>10:54:14 AM</td>\n",
       "      <td>10:59:24 AM</td>\n",
       "      <td>3.0</td>\n",
       "      <td>...</td>\n",
       "      <td>0.0</td>\n",
       "      <td>-1.280912</td>\n",
       "      <td>36.785252</td>\n",
       "      <td>-1.273431</td>\n",
       "      <td>36.786378</td>\n",
       "      <td>0</td>\n",
       "      <td>Moderate</td>\n",
       "      <td>1</td>\n",
       "      <td>End_month</td>\n",
       "      <td>Friday</td>\n",
       "    </tr>\n",
       "    <tr>\n",
       "      <th>2</th>\n",
       "      <td>360</td>\n",
       "      <td>951</td>\n",
       "      <td>13.5</td>\n",
       "      <td>176</td>\n",
       "      <td>Business</td>\n",
       "      <td>1:38:41 PM</td>\n",
       "      <td>1:44:38 PM</td>\n",
       "      <td>2:08:57 PM</td>\n",
       "      <td>2:23:06 PM</td>\n",
       "      <td>12.0</td>\n",
       "      <td>...</td>\n",
       "      <td>0.0</td>\n",
       "      <td>-1.256624</td>\n",
       "      <td>36.870685</td>\n",
       "      <td>-1.261589</td>\n",
       "      <td>36.792873</td>\n",
       "      <td>0</td>\n",
       "      <td>Occasional</td>\n",
       "      <td>1</td>\n",
       "      <td>Beginning</td>\n",
       "      <td>Monday</td>\n",
       "    </tr>\n",
       "    <tr>\n",
       "      <th>3</th>\n",
       "      <td>360</td>\n",
       "      <td>951</td>\n",
       "      <td>13.5</td>\n",
       "      <td>176</td>\n",
       "      <td>Business</td>\n",
       "      <td>3:02:30 PM</td>\n",
       "      <td>3:11:55 PM</td>\n",
       "      <td>3:20:12 PM</td>\n",
       "      <td>3:24:26 PM</td>\n",
       "      <td>5.0</td>\n",
       "      <td>...</td>\n",
       "      <td>0.0</td>\n",
       "      <td>-1.300406</td>\n",
       "      <td>36.829741</td>\n",
       "      <td>-1.307787</td>\n",
       "      <td>36.844321</td>\n",
       "      <td>0</td>\n",
       "      <td>Moderate</td>\n",
       "      <td>1</td>\n",
       "      <td>Beginning</td>\n",
       "      <td>Mid_week</td>\n",
       "    </tr>\n",
       "    <tr>\n",
       "      <th>4</th>\n",
       "      <td>360</td>\n",
       "      <td>951</td>\n",
       "      <td>13.5</td>\n",
       "      <td>176</td>\n",
       "      <td>Personal</td>\n",
       "      <td>10:38:28 AM</td>\n",
       "      <td>10:45:48 AM</td>\n",
       "      <td>11:04:07 AM</td>\n",
       "      <td>11:09:49 AM</td>\n",
       "      <td>6.0</td>\n",
       "      <td>...</td>\n",
       "      <td>0.0</td>\n",
       "      <td>-1.292206</td>\n",
       "      <td>36.800284</td>\n",
       "      <td>-1.300921</td>\n",
       "      <td>36.828195</td>\n",
       "      <td>0</td>\n",
       "      <td>Occasional</td>\n",
       "      <td>0</td>\n",
       "      <td>Beginning</td>\n",
       "      <td>Mid_week</td>\n",
       "    </tr>\n",
       "  </tbody>\n",
       "</table>\n",
       "<p>5 rows × 21 columns</p>\n",
       "</div>"
      ],
      "text/plain": [
       "   No_Of_Orders   Age  Average_Rating  No_of_Ratings Personal_or_Business  \\\n",
       "0          2946  2298            14.0           1159             Personal   \n",
       "1          2946  2298            14.0           1159             Business   \n",
       "2           360   951            13.5            176             Business   \n",
       "3           360   951            13.5            176             Business   \n",
       "4           360   951            13.5            176             Personal   \n",
       "\n",
       "  Placement_-_Time Confirmation_-_Time Arrival_at_Pickup_-_Time Pickup_-_Time  \\\n",
       "0      10:41:49 AM         10:43:49 AM              11:05:49 AM   11:13:22 AM   \n",
       "1      10:38:29 AM         10:39:10 AM              10:54:14 AM   10:59:24 AM   \n",
       "2       1:38:41 PM          1:44:38 PM               2:08:57 PM    2:23:06 PM   \n",
       "3       3:02:30 PM          3:11:55 PM               3:20:12 PM    3:24:26 PM   \n",
       "4      10:38:28 AM         10:45:48 AM              11:04:07 AM   11:09:49 AM   \n",
       "\n",
       "   Distance_(KM)  ...  Precipitation_in_millimeters  Pickup_Lat  Pickup_Long  \\\n",
       "0            4.0  ...                           0.0   -1.278450    36.798173   \n",
       "1            3.0  ...                           0.0   -1.280912    36.785252   \n",
       "2           12.0  ...                           0.0   -1.256624    36.870685   \n",
       "3            5.0  ...                           0.0   -1.300406    36.829741   \n",
       "4            6.0  ...                           0.0   -1.292206    36.800284   \n",
       "\n",
       "   Destination_Lat  Destination_Long  Is_rider_busy  Is_user_frequent  \\\n",
       "0        -1.278948         36.812236              0        Occasional   \n",
       "1        -1.273431         36.786378              0          Moderate   \n",
       "2        -1.261589         36.792873              0        Occasional   \n",
       "3        -1.307787         36.844321              0          Moderate   \n",
       "4        -1.300921         36.828195              0        Occasional   \n",
       "\n",
       "  Is_platform_busy  Day_of_Month Day_of_Week  \n",
       "0                0     Beginning    Mid_week  \n",
       "1                1     End_month      Friday  \n",
       "2                1     Beginning      Monday  \n",
       "3                1     Beginning    Mid_week  \n",
       "4                0     Beginning    Mid_week  \n",
       "\n",
       "[5 rows x 21 columns]"
      ]
     },
     "execution_count": 33,
     "metadata": {},
     "output_type": "execute_result"
    }
   ],
   "source": [
    "X.head()"
   ]
  },
  {
   "cell_type": "code",
   "execution_count": 34,
   "metadata": {},
   "outputs": [],
   "source": [
    "X_pred = pd.get_dummies(X_pred, columns=excluding_time,drop_first = True)"
   ]
  },
  {
   "cell_type": "code",
   "execution_count": 35,
   "metadata": {},
   "outputs": [],
   "source": [
    "X = pd.get_dummies(X, columns=excluding_time,drop_first = True)"
   ]
  },
  {
   "cell_type": "markdown",
   "metadata": {},
   "source": [
    "# Checking for Linearity"
   ]
  },
  {
   "cell_type": "code",
   "execution_count": 36,
   "metadata": {},
   "outputs": [],
   "source": [
    "y_dataframe = {\"Time_of_arrival\":y}\n",
    "y_ = pd.DataFrame(y_dataframe) \n",
    "df_train = X.merge(y_,left_index=True,right_index=True)"
   ]
  },
  {
   "cell_type": "code",
   "execution_count": 37,
   "metadata": {},
   "outputs": [
    {
     "data": {
      "text/plain": [
       "<matplotlib.axes._subplots.AxesSubplot at 0x1ea3f01bfc8>"
      ]
     },
     "execution_count": 37,
     "metadata": {},
     "output_type": "execute_result"
    },
    {
     "data": {
      "image/png": "[encoded data removed]",
      "text/plain": [
       "<Figure size 576x432 with 2 Axes>"
      ]
     },
     "metadata": {
      "needs_background": "light"
     },
     "output_type": "display_data"
    }
   ],
   "source": [
    "#Using Pearson Correlation\n",
    "plt.figure(figsize=(8,6))\n",
    "cor = df_train.corr()\n",
    "sns.heatmap(cor)"
   ]
  },
  {
   "cell_type": "code",
   "execution_count": 38,
   "metadata": {},
   "outputs": [],
   "source": [
    "#Backward elimination"
   ]
  },
  {
   "cell_type": "code",
   "execution_count": 39,
   "metadata": {},
   "outputs": [],
   "source": [
    "# dropping to test the models\n",
    "X = X.drop(['Placement_-_Time','Confirmation_-_Time','Arrival_at_Pickup_-_Time',\n",
    "                       'Pickup_-_Time','Day_of_Month','Day_of_Week'],axis = 1)\n"
   ]
  },
  {
   "cell_type": "code",
   "execution_count": 40,
   "metadata": {},
   "outputs": [],
   "source": [
    "X_pred = X_pred.drop(['Placement_-_Time','Confirmation_-_Time','Arrival_at_Pickup_-_Time',\n",
    "                       'Pickup_-_Time','Day_of_Month','Day_of_Week'],axis = 1)\n"
   ]
  },
  {
   "cell_type": "code",
   "execution_count": 41,
   "metadata": {},
   "outputs": [
    {
     "name": "stdout",
     "output_type": "stream",
     "text": [
      "['No_Of_Orders', 'Average_Rating', 'No_of_Ratings', 'Distance_(KM)', 'Temperature', 'Pickup_Long', 'Destination_Lat', 'Is_rider_busy', 'Is_platform_busy', 'Is_user_frequent_Moderate', 'Is_user_frequent_Occasional']\n"
     ]
    }
   ],
   "source": [
    "import statsmodels.api as sm\n",
    "\n",
    "#Backward Elimination\n",
    "cols = list(X.columns)\n",
    "pmax = 1\n",
    "while (len(cols)>0):\n",
    "    p= []\n",
    "    X_1 = X[cols]\n",
    "    X_1 = sm.add_constant(X_1)\n",
    "    model = sm.OLS(y,X_1).fit()\n",
    "    p = pd.Series(model.pvalues.values[1:],index = cols)      \n",
    "    pmax = max(p)\n",
    "    feature_with_p_max = p.idxmax()\n",
    "    if(pmax>0.05):\n",
    "        cols.remove(feature_with_p_max)\n",
    "    else:\n",
    "        break\n",
    "selected_features_BE = cols\n",
    "print(selected_features_BE)\n"
   ]
  },
  {
   "cell_type": "markdown",
   "metadata": {},
   "source": [
    "# Checking for Multicollinearity"
   ]
  },
  {
   "cell_type": "code",
   "execution_count": 42,
   "metadata": {},
   "outputs": [],
   "source": [
    "X_plot = X[selected_features_BE]"
   ]
  },
  {
   "cell_type": "code",
   "execution_count": 43,
   "metadata": {},
   "outputs": [],
   "source": [
    "corr = X_plot.corr()"
   ]
  },
  {
   "cell_type": "code",
   "execution_count": 44,
   "metadata": {},
   "outputs": [
    {
     "data": {
      "text/plain": [
       "<matplotlib.axes._subplots.AxesSubplot at 0x1ea42fc3f08>"
      ]
     },
     "execution_count": 44,
     "metadata": {},
     "output_type": "execute_result"
    },
    {
     "data": {
      "image/png": "[encoded data removed]",
      "text/plain": [
       "<Figure size 576x432 with 2 Axes>"
      ]
     },
     "metadata": {
      "needs_background": "light"
     },
     "output_type": "display_data"
    }
   ],
   "source": [
    "plt.figure(figsize=(8,6))\n",
    "sns.heatmap(corr)\n",
    "\n"
   ]
  },
  {
   "cell_type": "code",
   "execution_count": 45,
   "metadata": {},
   "outputs": [],
   "source": [
    "\"\"\"\n",
    "   Dropping features because they are highly correlated with other features\n",
    "\"\"\"\n",
    "\n",
    "selected_features = [x for x in selected_features_BE if x != 'No_of_Ratings' and x != 'Is_user_frequent_Moderate']"
   ]
  },
  {
   "cell_type": "markdown",
   "metadata": {},
   "source": [
    "# Feature Scaling"
   ]
  },
  {
   "cell_type": "code",
   "execution_count": 46,
   "metadata": {},
   "outputs": [],
   "source": [
    "X_copy_scaling = X[selected_features]\n",
    "X_pred_scaling = X_pred[selected_features]\n"
   ]
  },
  {
   "cell_type": "code",
   "execution_count": 47,
   "metadata": {},
   "outputs": [
    {
     "name": "stderr",
     "output_type": "stream",
     "text": [
      "C:\\Users\\Percy P\\Anaconda3\\lib\\site-packages\\pandas\\core\\indexing.py:965: SettingWithCopyWarning: \n",
      "A value is trying to be set on a copy of a slice from a DataFrame.\n",
      "Try using .loc[row_indexer,col_indexer] = value instead\n",
      "\n",
      "See the caveats in the documentation: https://pandas.pydata.org/pandas-docs/stable/user_guide/indexing.html#returning-a-view-versus-a-copy\n",
      "  self.obj[item] = s\n",
      "C:\\Users\\Percy P\\Anaconda3\\lib\\site-packages\\pandas\\core\\indexing.py:965: SettingWithCopyWarning: \n",
      "A value is trying to be set on a copy of a slice from a DataFrame.\n",
      "Try using .loc[row_indexer,col_indexer] = value instead\n",
      "\n",
      "See the caveats in the documentation: https://pandas.pydata.org/pandas-docs/stable/user_guide/indexing.html#returning-a-view-versus-a-copy\n",
      "  self.obj[item] = s\n"
     ]
    }
   ],
   "source": [
    "from sklearn.preprocessing import StandardScaler\n",
    "sc = StandardScaler()\n",
    "X_copy_scaling.iloc[:,0:6]= sc.fit_transform(X_copy_scaling.iloc[:,0:6])\n",
    "X_pred_scaling.iloc[:,0:6]= sc.fit_transform(X_pred_scaling.iloc[:,0:6])"
   ]
  },
  {
   "cell_type": "code",
   "execution_count": 48,
   "metadata": {},
   "outputs": [
    {
     "data": {
      "text/html": [
       "<div>\n",
       "<style scoped>\n",
       "    .dataframe tbody tr th:only-of-type {\n",
       "        vertical-align: middle;\n",
       "    }\n",
       "\n",
       "    .dataframe tbody tr th {\n",
       "        vertical-align: top;\n",
       "    }\n",
       "\n",
       "    .dataframe thead th {\n",
       "        text-align: right;\n",
       "    }\n",
       "</style>\n",
       "<table border=\"1\" class=\"dataframe\">\n",
       "  <thead>\n",
       "    <tr style=\"text-align: right;\">\n",
       "      <th></th>\n",
       "      <th>No_Of_Orders</th>\n",
       "      <th>Average_Rating</th>\n",
       "      <th>Distance_(KM)</th>\n",
       "      <th>Temperature</th>\n",
       "      <th>Pickup_Long</th>\n",
       "      <th>Destination_Lat</th>\n",
       "      <th>Is_rider_busy</th>\n",
       "      <th>Is_platform_busy</th>\n",
       "      <th>Is_user_frequent_Occasional</th>\n",
       "    </tr>\n",
       "  </thead>\n",
       "  <tbody>\n",
       "    <tr>\n",
       "      <th>0</th>\n",
       "      <td>0.796290</td>\n",
       "      <td>0.128247</td>\n",
       "      <td>-0.971370</td>\n",
       "      <td>-0.486458</td>\n",
       "      <td>-0.349349</td>\n",
       "      <td>0.104332</td>\n",
       "      <td>0</td>\n",
       "      <td>0</td>\n",
       "      <td>1</td>\n",
       "    </tr>\n",
       "    <tr>\n",
       "      <th>1</th>\n",
       "      <td>0.796290</td>\n",
       "      <td>0.128247</td>\n",
       "      <td>-1.147774</td>\n",
       "      <td>0.351538</td>\n",
       "      <td>-0.694156</td>\n",
       "      <td>0.262752</td>\n",
       "      <td>0</td>\n",
       "      <td>1</td>\n",
       "      <td>0</td>\n",
       "    </tr>\n",
       "    <tr>\n",
       "      <th>2</th>\n",
       "      <td>-0.846375</td>\n",
       "      <td>-0.417575</td>\n",
       "      <td>0.439856</td>\n",
       "      <td>-0.920975</td>\n",
       "      <td>1.585758</td>\n",
       "      <td>0.602825</td>\n",
       "      <td>0</td>\n",
       "      <td>1</td>\n",
       "      <td>1</td>\n",
       "    </tr>\n",
       "    <tr>\n",
       "      <th>3</th>\n",
       "      <td>-0.846375</td>\n",
       "      <td>-0.417575</td>\n",
       "      <td>-0.794967</td>\n",
       "      <td>0.475685</td>\n",
       "      <td>0.493103</td>\n",
       "      <td>-0.723839</td>\n",
       "      <td>0</td>\n",
       "      <td>1</td>\n",
       "      <td>0</td>\n",
       "    </tr>\n",
       "  </tbody>\n",
       "</table>\n",
       "</div>"
      ],
      "text/plain": [
       "   No_Of_Orders  Average_Rating  Distance_(KM)  Temperature  Pickup_Long  \\\n",
       "0      0.796290        0.128247      -0.971370    -0.486458    -0.349349   \n",
       "1      0.796290        0.128247      -1.147774     0.351538    -0.694156   \n",
       "2     -0.846375       -0.417575       0.439856    -0.920975     1.585758   \n",
       "3     -0.846375       -0.417575      -0.794967     0.475685     0.493103   \n",
       "\n",
       "   Destination_Lat  Is_rider_busy  Is_platform_busy  \\\n",
       "0         0.104332              0                 0   \n",
       "1         0.262752              0                 1   \n",
       "2         0.602825              0                 1   \n",
       "3        -0.723839              0                 1   \n",
       "\n",
       "   Is_user_frequent_Occasional  \n",
       "0                            1  \n",
       "1                            0  \n",
       "2                            1  \n",
       "3                            0  "
      ]
     },
     "execution_count": 48,
     "metadata": {},
     "output_type": "execute_result"
    }
   ],
   "source": [
    "X_copy_scaling.head(4)"
   ]
  },
  {
   "cell_type": "markdown",
   "metadata": {},
   "source": [
    "# Splitting the dataset into the Training set and Test set\n"
   ]
  },
  {
   "cell_type": "code",
   "execution_count": 49,
   "metadata": {},
   "outputs": [],
   "source": [
    "######################        Crossvalidation"
   ]
  },
  {
   "cell_type": "code",
   "execution_count": 50,
   "metadata": {},
   "outputs": [],
   "source": [
    "from sklearn.model_selection import KFold "
   ]
  },
  {
   "cell_type": "code",
   "execution_count": 51,
   "metadata": {},
   "outputs": [],
   "source": [
    "X_copy_split = X_copy_scaling.copy()"
   ]
  },
  {
   "cell_type": "code",
   "execution_count": 52,
   "metadata": {},
   "outputs": [
    {
     "data": {
      "text/plain": [
       "array([[ 0.79628994,  0.12824671, -0.97137039, ...,  0.        ,\n",
       "         0.        ,  1.        ],\n",
       "       [ 0.79628994,  0.12824671, -1.14777366, ...,  0.        ,\n",
       "         1.        ,  0.        ],\n",
       "       [-0.84637496, -0.41757544,  0.43985579, ...,  0.        ,\n",
       "         1.        ,  1.        ],\n",
       "       ...,\n",
       "       [-0.86034968,  0.56490442, -0.08935403, ...,  0.        ,\n",
       "         1.        ,  0.        ],\n",
       "       [-0.86034968,  0.56490442,  0.43985579, ...,  0.        ,\n",
       "         1.        ,  0.        ],\n",
       "       [-0.97405309,  1.21989099,  0.43985579, ...,  0.        ,\n",
       "         1.        ,  0.        ]])"
      ]
     },
     "execution_count": 52,
     "metadata": {},
     "output_type": "execute_result"
    }
   ],
   "source": [
    "X_array = np.array(X_copy_split)\n",
    "X_array"
   ]
  },
  {
   "cell_type": "code",
   "execution_count": 53,
   "metadata": {},
   "outputs": [],
   "source": [
    "kf = KFold(n_splits=4) # Define the split - into 4 folds \n",
    "kf.get_n_splits(X_array)\n",
    "\n",
    "train_tuples = []\n",
    "test_tuples = []\n",
    "\n",
    "for train_index, test_index in kf.split(X_array ):\n",
    "    X_train, X_test = X_array[train_index], X_array[test_index]\n",
    "    y_train, y_test = y[train_index], y[test_index]\n",
    "    train_tuples.append((X_train,y_train))\n",
    "    test_tuples.append((X_test,y_test))\n",
    "    "
   ]
  },
  {
   "cell_type": "markdown",
   "metadata": {},
   "source": [
    "# Testing models"
   ]
  },
  {
   "cell_type": "code",
   "execution_count": 54,
   "metadata": {},
   "outputs": [],
   "source": [
    "names = ['RandForest(default auto)','RandForest(auto, depth=11)',\n",
    "         'RandForest(sqrt,depth=11)','RandForest(log2,depth=11)','GradientBoostingRegressor(default auto)','GradientBoostingRegressor(depth=5,auto)',\n",
    "         'GradientBoostingRegressor(depth=5,sqrt)','GradientBoostingRegressor(depth=5,log2)',\n",
    "         'DecisionTreeRegressor(default)',\n",
    "         'DecisionTreeRegressor(depth=5,auto)','DecisionTreeRegressor(depth=5,sqrt)',\n",
    "         'Multiple Linear Regression', 'Rigde' ]\n",
    "         \n",
    "    \n",
    "regressors = [\n",
    "        RandomForestRegressor(max_features='auto'),               RandomForestRegressor(max_depth=11),\n",
    "        RandomForestRegressor(max_depth=11, max_features='sqrt'), RandomForestRegressor(max_depth=11, max_features='log2'),\n",
    "        GradientBoostingRegressor(max_features='auto'),           GradientBoostingRegressor(max_depth=5,max_features='auto'),\n",
    "        GradientBoostingRegressor(max_depth=5,max_features='sqrt'),GradientBoostingRegressor(max_depth=5,max_features='log2'),\n",
    "        DecisionTreeRegressor(max_depth=5),                       DecisionTreeRegressor(max_depth=5,max_features='auto'),\n",
    "        DecisionTreeRegressor(max_depth=5,max_features='sqrt'), LinearRegression(copy_X=True, fit_intercept=True, n_jobs=None, normalize=False),\n",
    "        Ridge(alpha=1.0, copy_X=True, fit_intercept=True, max_iter=None,normalize=False, random_state=None, solver='auto', tol=0.001)]\n",
    "    \n",
    "    "
   ]
  },
  {
   "cell_type": "code",
   "execution_count": 55,
   "metadata": {},
   "outputs": [],
   "source": [
    "Model_Performance=pd.DataFrame()\n",
    "\n",
    "for (X_train,y_train) in train_tuples:\n",
    "    for name, regr in zip(names, regressors):\n",
    "        regr.fit(X_train,y_train)\n",
    "        score = regr.score(X_train,y_train)\n",
    "        rmse = np.sqrt(mean_squared_error(y_train, regr.predict(X_train),multioutput='raw_values'))\n",
    "        cv= pd.Series([name,score,rmse],index=['name','score','RMSE'])\n",
    "        Model_Performance= Model_Performance.append(cv,ignore_index=True)\n"
   ]
  },
  {
   "cell_type": "code",
   "execution_count": 56,
   "metadata": {},
   "outputs": [
    {
     "data": {
      "text/html": [
       "<div>\n",
       "<style scoped>\n",
       "    .dataframe tbody tr th:only-of-type {\n",
       "        vertical-align: middle;\n",
       "    }\n",
       "\n",
       "    .dataframe tbody tr th {\n",
       "        vertical-align: top;\n",
       "    }\n",
       "\n",
       "    .dataframe thead th {\n",
       "        text-align: right;\n",
       "    }\n",
       "</style>\n",
       "<table border=\"1\" class=\"dataframe\">\n",
       "  <thead>\n",
       "    <tr style=\"text-align: right;\">\n",
       "      <th></th>\n",
       "      <th>RMSE</th>\n",
       "      <th>name</th>\n",
       "      <th>score</th>\n",
       "    </tr>\n",
       "  </thead>\n",
       "  <tbody>\n",
       "    <tr>\n",
       "      <th>0</th>\n",
       "      <td>[295.6608237274165]</td>\n",
       "      <td>RandForest(default auto)</td>\n",
       "      <td>0.908934</td>\n",
       "    </tr>\n",
       "    <tr>\n",
       "      <th>1</th>\n",
       "      <td>[619.4679678715256]</td>\n",
       "      <td>RandForest(auto, depth=11)</td>\n",
       "      <td>0.600232</td>\n",
       "    </tr>\n",
       "    <tr>\n",
       "      <th>2</th>\n",
       "      <td>[653.8793897029751]</td>\n",
       "      <td>RandForest(sqrt,depth=11)</td>\n",
       "      <td>0.554584</td>\n",
       "    </tr>\n",
       "    <tr>\n",
       "      <th>3</th>\n",
       "      <td>[656.0980463071324]</td>\n",
       "      <td>RandForest(log2,depth=11)</td>\n",
       "      <td>0.551556</td>\n",
       "    </tr>\n",
       "    <tr>\n",
       "      <th>4</th>\n",
       "      <td>[751.0131693092785]</td>\n",
       "      <td>GradientBoostingRegressor(default auto)</td>\n",
       "      <td>0.412422</td>\n",
       "    </tr>\n",
       "    <tr>\n",
       "      <th>5</th>\n",
       "      <td>[693.0547582589096]</td>\n",
       "      <td>GradientBoostingRegressor(depth=5,auto)</td>\n",
       "      <td>0.499613</td>\n",
       "    </tr>\n",
       "    <tr>\n",
       "      <th>6</th>\n",
       "      <td>[703.8831642498218]</td>\n",
       "      <td>GradientBoostingRegressor(depth=5,sqrt)</td>\n",
       "      <td>0.483855</td>\n",
       "    </tr>\n",
       "    <tr>\n",
       "      <th>7</th>\n",
       "      <td>[704.5611317385335]</td>\n",
       "      <td>GradientBoostingRegressor(depth=5,log2)</td>\n",
       "      <td>0.482860</td>\n",
       "    </tr>\n",
       "    <tr>\n",
       "      <th>8</th>\n",
       "      <td>[784.6710961676848]</td>\n",
       "      <td>DecisionTreeRegressor(default)</td>\n",
       "      <td>0.358575</td>\n",
       "    </tr>\n",
       "    <tr>\n",
       "      <th>9</th>\n",
       "      <td>[784.6710961676848]</td>\n",
       "      <td>DecisionTreeRegressor(depth=5,auto)</td>\n",
       "      <td>0.358575</td>\n",
       "    </tr>\n",
       "    <tr>\n",
       "      <th>10</th>\n",
       "      <td>[831.4154604757285]</td>\n",
       "      <td>DecisionTreeRegressor(depth=5,sqrt)</td>\n",
       "      <td>0.279877</td>\n",
       "    </tr>\n",
       "    <tr>\n",
       "      <th>11</th>\n",
       "      <td>[795.164400130228]</td>\n",
       "      <td>Multiple Linear Regression</td>\n",
       "      <td>0.341305</td>\n",
       "    </tr>\n",
       "    <tr>\n",
       "      <th>12</th>\n",
       "      <td>[795.1644015816935]</td>\n",
       "      <td>Rigde</td>\n",
       "      <td>0.341305</td>\n",
       "    </tr>\n",
       "  </tbody>\n",
       "</table>\n",
       "</div>"
      ],
      "text/plain": [
       "                   RMSE                                     name     score\n",
       "0   [295.6608237274165]                 RandForest(default auto)  0.908934\n",
       "1   [619.4679678715256]               RandForest(auto, depth=11)  0.600232\n",
       "2   [653.8793897029751]                RandForest(sqrt,depth=11)  0.554584\n",
       "3   [656.0980463071324]                RandForest(log2,depth=11)  0.551556\n",
       "4   [751.0131693092785]  GradientBoostingRegressor(default auto)  0.412422\n",
       "5   [693.0547582589096]  GradientBoostingRegressor(depth=5,auto)  0.499613\n",
       "6   [703.8831642498218]  GradientBoostingRegressor(depth=5,sqrt)  0.483855\n",
       "7   [704.5611317385335]  GradientBoostingRegressor(depth=5,log2)  0.482860\n",
       "8   [784.6710961676848]           DecisionTreeRegressor(default)  0.358575\n",
       "9   [784.6710961676848]      DecisionTreeRegressor(depth=5,auto)  0.358575\n",
       "10  [831.4154604757285]      DecisionTreeRegressor(depth=5,sqrt)  0.279877\n",
       "11   [795.164400130228]               Multiple Linear Regression  0.341305\n",
       "12  [795.1644015816935]                                    Rigde  0.341305"
      ]
     },
     "execution_count": 56,
     "metadata": {},
     "output_type": "execute_result"
    }
   ],
   "source": [
    "\"\"\"\n",
    "   RMSE and scores for all n splits \n",
    "\"\"\"\n",
    "\n",
    "Model_Performance.head(13) "
   ]
  },
  {
   "cell_type": "markdown",
   "metadata": {},
   "source": [
    "# Training model with the best rmse from above"
   ]
  },
  {
   "cell_type": "code",
   "execution_count": 57,
   "metadata": {},
   "outputs": [],
   "source": [
    "\"\"\"\n",
    "   Random Forest Regression performed well on all four splits of the train data sets,\n",
    "   so we will be proceeding with it to predict the time of arrival.\n",
    "\"\"\"\n",
    "model_kfold = RandomForestRegressor(bootstrap=True, ccp_alpha=0.0, criterion='mse',\n",
    "                      max_depth=9, max_features='auto', max_leaf_nodes=None,\n",
    "                      max_samples=None, min_impurity_decrease=0.0,\n",
    "                      min_impurity_split=None, min_samples_leaf=1,\n",
    "                      min_samples_split=2, min_weight_fraction_leaf=0.0,\n",
    "                      n_estimators=100, n_jobs=None, oob_score=False,\n",
    "                      random_state=None, verbose=0, warm_start=False)"
   ]
  },
  {
   "cell_type": "code",
   "execution_count": 58,
   "metadata": {},
   "outputs": [],
   "source": [
    "rmse = []\n",
    "\n",
    "pred = pd.DataFrame()\n",
    "\n",
    "for (X_train,y_train) in train_tuples:\n",
    "    model_kfold.fit(X_train,y_train)  #training model\n",
    "    \n",
    "\n",
    "for (X_test,y_test)in test_tuples:\n",
    "    y_pred = model_kfold.predict(X_test)      # Get predictions\n",
    "    \n",
    "    np.set_printoptions(precision=2)\n",
    "    Predict_test = pd.DataFrame(np.concatenate((y_pred.reshape(-1,1), y_test.reshape(-1,1)),1), columns = ['Predict', 'Test'])\n",
    "    \n",
    "    pred.append(Predict_test,ignore_index=True)\n",
    "    \n",
    "    RMSE = mean_squared_error(y_pred, y_test)**0.5       # Compute RMSE\n",
    "    \n",
    "    rmse.append(RMSE)\n",
    "    "
   ]
  },
  {
   "cell_type": "code",
   "execution_count": 59,
   "metadata": {
    "scrolled": true
   },
   "outputs": [
    {
     "data": {
      "text/plain": [
       "[695.132786905359, 660.0384311342614, 703.8641121442146, 810.5500626392371]"
      ]
     },
     "execution_count": 59,
     "metadata": {},
     "output_type": "execute_result"
    }
   ],
   "source": [
    "rmse"
   ]
  },
  {
   "cell_type": "code",
   "execution_count": 60,
   "metadata": {},
   "outputs": [],
   "source": [
    "errors2 = np.array(y_pred - y_test)"
   ]
  },
  {
   "cell_type": "code",
   "execution_count": 61,
   "metadata": {},
   "outputs": [
    {
     "data": {
      "image/png": "[encoded data removed]",
      "text/plain": [
       "<Figure size 432x288 with 1 Axes>"
      ]
     },
     "metadata": {
      "needs_background": "light"
     },
     "output_type": "display_data"
    }
   ],
   "source": [
    "plt.hist(errors2)\n",
    "plt.show()"
   ]
  },
  {
   "cell_type": "markdown",
   "metadata": {},
   "source": [
    "# Predicting the Test set results"
   ]
  },
  {
   "cell_type": "code",
   "execution_count": 62,
   "metadata": {},
   "outputs": [],
   "source": [
    "\n",
    "Time_from_pickup_to_Arrival = model_kfold.predict(X_pred_scaling)\n"
   ]
  },
  {
   "cell_type": "code",
   "execution_count": 64,
   "metadata": {},
   "outputs": [],
   "source": [
    "import pickle\n",
    "save_path = 'team17.plk'\n",
    "pickle.dump(model_kfold, open(save_path, 'wb'))"
   ]
  },
  {
   "cell_type": "code",
   "execution_count": 173,
   "metadata": {},
   "outputs": [],
   "source": [
    "SampleSubmission = pd.read_csv(r'C:\\Users\\27817\\OneDrive\\Desktop\\Predict\\SampleSubmission.csv')"
   ]
  },
  {
   "cell_type": "code",
   "execution_count": 174,
   "metadata": {
    "scrolled": true
   },
   "outputs": [],
   "source": [
    "SampleSubmission['Time from Pickup to Arrival'] = Time_from_pickup_to_Arrival\n",
    "SampleSubmission.to_csv(r'C:\\Users\\27817\\OneDrive\\Desktop\\Predict\\RFR4.csv',index=False)"
   ]
  },
  {
   "cell_type": "code",
   "execution_count": 175,
   "metadata": {},
   "outputs": [
    {
     "data": {
      "text/plain": [
       "0       1663.196280\n",
       "1       1219.515380\n",
       "2       1507.196467\n",
       "3       1396.626209\n",
       "4       1187.735615\n",
       "           ...     \n",
       "7063    1454.586127\n",
       "7064    2811.902688\n",
       "7065    1672.440080\n",
       "7066    2576.702114\n",
       "7067    1589.398726\n",
       "Name: Time from Pickup to Arrival, Length: 7068, dtype: float64"
      ]
     },
     "execution_count": 175,
     "metadata": {},
     "output_type": "execute_result"
    }
   ],
   "source": [
    "SampleSubmission['Time from Pickup to Arrival']"
   ]
  },
  {
   "cell_type": "code",
   "execution_count": null,
   "metadata": {},
   "outputs": [],
   "source": []
  }
 ],
 "metadata": {
  "kernelspec": {
   "display_name": "Python 3",
   "language": "python",
   "name": "python3"
  },
  "language_info": {
   "codemirror_mode": {
    "name": "ipython",
    "version": 3
   },
   "file_extension": ".py",
   "mimetype": "text/x-python",
   "name": "python",
   "nbconvert_exporter": "python",
   "pygments_lexer": "ipython3",
   "version": "3.7.6"
  }
 },
 "nbformat": 4,
 "nbformat_minor": 4
}
